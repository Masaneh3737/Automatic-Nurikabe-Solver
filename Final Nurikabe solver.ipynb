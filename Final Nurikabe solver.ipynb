{
 "cells": [
  {
   "cell_type": "code",
   "execution_count": 1,
   "id": "60e21141",
   "metadata": {},
   "outputs": [],
   "source": [
    "#Putting all the functions together: \n",
    "import copy \n",
    "from time import perf_counter"
   ]
  },
  {
   "cell_type": "code",
   "execution_count": 2,
   "id": "e802733e",
   "metadata": {},
   "outputs": [],
   "source": [
    "def setup_nurikabe(clues,n):\n",
    "\n",
    "   #Takes Nurikabe as a 1D list of clues. Returns it in 2D list in nxn form. \n",
    "    \n",
    "    \n",
    "    puzzle = [[-1 for j in range(n)] for j in range(n)]  # sets up puzzle so undetermined cells are represented as -1\n",
    "    \n",
    "    for i in range(len(clues)):\n",
    "        row = i // n\n",
    "        col = i % n\n",
    "        if clues[i] != 0:  \n",
    "            puzzle[row][col] = clues[i]\n",
    "    \n",
    "    return puzzle"
   ]
  },
  {
   "cell_type": "code",
   "execution_count": 3,
   "id": "e49115c8",
   "metadata": {},
   "outputs": [
    {
     "data": {
      "text/plain": [
       "[[-1, -1, -1, -1, -1, -1],\n",
       " [-1, -1, -1, -1, -1, 5],\n",
       " [-1, 2, -1, -1, 3, -1],\n",
       " [-1, -1, -1, -1, -1, -1],\n",
       " [2, -1, -1, -1, -1, -1],\n",
       " [-1, -1, 5, -1, -1, -1]]"
      ]
     },
     "execution_count": 3,
     "metadata": {},
     "output_type": "execute_result"
    }
   ],
   "source": [
    "setup_nurikabe([0,0,0,0,0,0,0,0,0,0,0,5,0,2,0,0,3,0,0,0,0,0,0,0,2,0,0,0,0,0,0,0,5,0,0,0],6)"
   ]
  },
  {
   "cell_type": "code",
   "execution_count": 4,
   "id": "df60d118",
   "metadata": {},
   "outputs": [],
   "source": [
    "def island_of_one(puzzle,n): \n",
    "    #islands of one are simply a simple clue of 1 given in the grid means adjacent cells should be water and marked as 0. \n",
    "    \n",
    "    for row in range(1,len(puzzle)-1,1): \n",
    "        for col in range(1,len(puzzle)-1,1): \n",
    "            if puzzle[row][col] == 1:  # this section deals with islands of one that are not on edges of the grid and confirms the 4 adjacent cells as water by making them 0. \n",
    "                puzzle[row][col-1] = 0 \n",
    "                puzzle[row][col+1] = 0 \n",
    "                puzzle[row-1][col] = 0 \n",
    "                puzzle[row+1][col] = 0 \n",
    "                #works up to this point \n",
    "                #now to confirm the edge islands of one \n",
    "                \n",
    "                #first confirming islands of one on the top row and bottom row. (excluding if the island of one is in corners.)\n",
    "    for i in range(1,n-1): \n",
    "        if puzzle[0][i] == 1: \n",
    "            puzzle[0][i-1] = 0 \n",
    "            puzzle[0][i+1] = 0 \n",
    "            puzzle[1][i] = 0  \n",
    "        # bottom row now excluding corners\n",
    "        if puzzle[n-1][i] == 1: \n",
    "            puzzle[n-1][i-1] = 0 \n",
    "            puzzle[n-1][i+1] = 0 \n",
    "            puzzle[n-2][i] = 0 \n",
    "         \n",
    "        # now to do the same with first column \n",
    "        if puzzle[i][0] == 1: \n",
    "            puzzle[i-1][0] = 0 \n",
    "            puzzle[i+1][0] = 0 \n",
    "            puzzle[i][1] = 0 \n",
    "        # and last column \n",
    "        \n",
    "        if puzzle[i][n-1] == 1: \n",
    "            puzzle[i-1][n-1] = 0 \n",
    "            puzzle[i+1][n-1] = 0 \n",
    "            puzzle[i][n-2] = 0 \n",
    "            \n",
    "    # now to do the same for the 4 corner cells if they are an island of one \n",
    "    if puzzle[0][0]==1: #top left\n",
    "        puzzle[0][1]=0 \n",
    "        puzzle[1][0]=0 \n",
    "        \n",
    "    if puzzle[0][n-1]== 1: #top right\n",
    "        puzzle[0][n-2]=0 \n",
    "        puzzle[1][n-1]=0 \n",
    "    \n",
    "    if puzzle[n-1][0]==1: #bottom left\n",
    "        puzzle[n-2][0]=0 \n",
    "        puzzle[n-1][1]=0 \n",
    "        \n",
    "    if puzzle[n-1][n-1]==1: #bottom right\n",
    "        puzzle[n-2][n-1]=0 \n",
    "        puzzle[n-1][n-2]=0 \n",
    "    \n",
    "    return puzzle\n",
    "                "
   ]
  },
  {
   "cell_type": "code",
   "execution_count": 5,
   "id": "a78db436",
   "metadata": {},
   "outputs": [],
   "source": [
    "def clues_separated_by_one(puzzle,n):\n",
    "    \n",
    "\n",
    "    for row in range(n):\n",
    "        for col in range(1, n-1):  \n",
    "            if puzzle[row][col] == -1:  # Check if the cell is undetermined and see if it seperates clues horizontally.\n",
    "                if puzzle[row][col-1] > 0 and puzzle[row][col+1] > 0:\n",
    "                    puzzle[row][col] = 0\n",
    "\n",
    "    # Vertical check\n",
    "    for col in range(n):\n",
    "        for row in range(1, n-1):  \n",
    "            if puzzle[row][col] == -1:  \n",
    "                if puzzle[row-1][col] > 0 and puzzle[row+1][col] > 0:\n",
    "                    puzzle[row][col] = 0\n",
    "    \n",
    "    return puzzle"
   ]
  },
  {
   "cell_type": "code",
   "execution_count": 6,
   "id": "b69c454f",
   "metadata": {},
   "outputs": [],
   "source": [
    "def diagonal_clues(puzzle,n): \n",
    "    #if 2 clues are diagonally adjacent then the cells which touch both clues must be water \n",
    "    # this function will check diagonals from top left down to bottom right and start with these diagonalls leading from the cells in the first row. \n",
    "    #it will then continue and do this checking diagonalls from top left to bottom right starting with cells in the first column, except the first cell which was alsready checked. \n",
    "    #after it will check diagonals from top right to bottom left in the same way.  \n",
    "    \n",
    "    #checking the diagonals starting in first row, from top left to bottom right iterating. \n",
    "    for starting_cell in range(n-1): \n",
    "        for i in range(0,n-starting_cell-1): \n",
    "            if puzzle[i][starting_cell+i] > 0 and puzzle[i+1][starting_cell+i+1] > 0 : \n",
    "                puzzle[i][starting_cell+i+1]=0 #makes cell to the right of the first checked clue water\n",
    "                puzzle[i+1][starting_cell+i]=0 #makes the cell below water\n",
    "    \n",
    "    #checking the diagonals starting in the first column from left to right downwards. the logic is the same. \n",
    "    for starting_cell in range(1, n-1):  # Start from 1 so dont repeat the first diagonal\n",
    "        for i in range(n - starting_cell - 1):\n",
    "            if puzzle[starting_cell + i][i] > 0 and puzzle[starting_cell + i + 1][i + 1] > 0:\n",
    "                puzzle[starting_cell + i + 1][i] = 0\n",
    "                puzzle[starting_cell + i][i + 1] = 0\n",
    "                \n",
    "    #checking the diagonals from down from right to left starting from row one second column\n",
    "    for starting_cell in range(1, n):  # iterated over columns from the second to the last\n",
    "        for i in range(starting_cell):\n",
    "            if puzzle[i][starting_cell - i] > 0 and puzzle[i + 1][starting_cell - i - 1] > 0:\n",
    "                puzzle[i + 1][starting_cell - i] = 0\n",
    "                puzzle[i][starting_cell - i - 1] = 0 \n",
    "                \n",
    "    #diagonals from right most column down and left diagonally iterating\n",
    "    for starting_cell in range(1,n-1): \n",
    "        for i in range(n - starting_cell -1): \n",
    "            if puzzle[starting_cell +i][n-i-1] > 0 and puzzle[starting_cell+i +1][n-i-2] > 0 : \n",
    "                    puzzle[starting_cell +i][n-i-2]= 0 \n",
    "                    puzzle[starting_cell +i+1][n-i-1]= 0 \n",
    "                    \n",
    "                \n",
    "    return puzzle\n",
    "                "
   ]
  },
  {
   "cell_type": "code",
   "execution_count": 7,
   "id": "b28720fe",
   "metadata": {},
   "outputs": [],
   "source": [
    "def surrounded_square(puzzle,n): \n",
    "    for row in range(1,len(puzzle)-1,1): # checks if squares not on the edges of the grid are surrounded by water and if so confirms this squ as water\n",
    "        for col in range(1,len(puzzle)-1,1): \n",
    "            if puzzle[row][col] == -1 and puzzle[row][col-1]== 0 and puzzle[row][col+1]== 0 and puzzle[row-1][col]== 0 and puzzle[row+1][col]== 0: \n",
    "                puzzle[row][col]= 0 \n",
    "    \n",
    "    #now checking the edges excluding corners \n",
    "    #top row\n",
    "    for i in range(1,n-1): \n",
    "        if puzzle[0][i] == -1 and puzzle[0][i-1] == 0 and puzzle[0][i+1] == 0 and puzzle[1][i] == 0: \n",
    "                puzzle[0][i]=0 \n",
    "             \n",
    "             \n",
    "              \n",
    "        # bottom row now excluding corners\n",
    "        if puzzle[n-1][i] == -1 and puzzle[n-1][i-1] == 0 and puzzle[n-1][i+1]== 0 and puzzle[n-2][i]== 0:  \n",
    "            puzzle[n-1][i]=0\n",
    "            \n",
    "              \n",
    "        # now to do the same with first column \n",
    "        if puzzle[i][0] == -1 and puzzle[i-1][0] == 0 and puzzle[i+1][0] == 0 and puzzle[i][1] == 0: \n",
    "             puzzle[i][0]= 0\n",
    "             \n",
    "             \n",
    "             \n",
    "        # and last column \n",
    "        \n",
    "        if puzzle[i][n-1] == -1 and puzzle[i-1][n-1] == 0 and puzzle[i+1][n-1] == 0 and puzzle[i][n-2] == 0:  \n",
    "            puzzle[i][n-1] = 0 \n",
    "             \n",
    "             \n",
    "    \n",
    "    # now to do the same for the 4 corner cells if they are surrounded by water \n",
    "    if puzzle[0][0]== -1 and puzzle[0][1]==0 and puzzle[1][0]==0: #top left \n",
    "        puzzle[0][0]= 0 \n",
    "         \n",
    "         \n",
    "        \n",
    "    if puzzle[0][n-1]== -1 and puzzle[0][n-2]==0 and puzzle[0][n-2]==0 and puzzle[1][n-1]==0: #top right \n",
    "        puzzle[0][n-1]=0\n",
    "         \n",
    "         \n",
    "    \n",
    "    if puzzle[n-1][0]== -1 and puzzle[n-2][0]==0 and puzzle[n-1][1]==0: #bottom left  \n",
    "        puzzle[n-1][0]= 0\n",
    "        \n",
    "         \n",
    "         \n",
    "        \n",
    "    if puzzle[n-1][n-1]== -1 and puzzle[n-2][n-1]==0 and puzzle[n-1][n-2]==0: #bottom right\n",
    "         puzzle[n-1][n-1]= 0\n",
    "         \n",
    "    \n",
    "    return puzzle"
   ]
  },
  {
   "cell_type": "code",
   "execution_count": 8,
   "id": "18969dfd",
   "metadata": {},
   "outputs": [],
   "source": [
    "def expand_water(puzzle, n): \n",
    "    \n",
    "    updated_puzzle = [row[:] for row in puzzle]\n",
    "\n",
    "    for row in range(n):\n",
    "        for col in range(n):\n",
    "            if puzzle[row][col] == 0:\n",
    "                blocked_sides = 0\n",
    "                expand_to = None  \n",
    "                \n",
    "                if row > 0: #makes sure to not check above if we are in the top row as that would be out of index\n",
    "                    if puzzle[row - 1][col] > 0:\n",
    "                        blocked_sides += 1\n",
    "                    elif puzzle[row - 1][col] == -1:\n",
    "                        expand_to = (row - 1, col)\n",
    "                else: # if we are in the top row row =  0 then increment blocked sides by 1 as this is essentially blocked\n",
    "                    blocked_sides += 1\n",
    "\n",
    "                # same applies for checking below you must ensure not in the bottom row \n",
    "                if row < n - 1: \n",
    "                    if puzzle[row + 1][col] > 0:\n",
    "                        blocked_sides += 1\n",
    "                    elif puzzle[row + 1][col] == -1:\n",
    "                        expand_to = (row + 1, col)\n",
    "                else:\n",
    "                    blocked_sides += 1\n",
    "\n",
    "                # check left \n",
    "                if col > 0:\n",
    "                    if puzzle[row][col - 1] > 0:\n",
    "                        blocked_sides += 1\n",
    "                    elif puzzle[row][col - 1] == -1:\n",
    "                        expand_to = (row, col - 1)\n",
    "                else:\n",
    "                    blocked_sides += 1\n",
    "\n",
    "                # finally check right\n",
    "                if col < n - 1:\n",
    "                    if puzzle[row][col + 1] > 0:\n",
    "                        blocked_sides += 1\n",
    "                    elif puzzle[row][col + 1] == -1:\n",
    "                        expand_to = (row, col + 1)\n",
    "                else:\n",
    "                    blocked_sides += 1\n",
    "\n",
    "                # Expand water if three sides are blocked\n",
    "                if blocked_sides == 3 and expand_to is not None:\n",
    "                    updated_puzzle[expand_to[0]][expand_to[1]] = 0\n",
    "\n",
    "    return updated_puzzle"
   ]
  },
  {
   "cell_type": "code",
   "execution_count": 9,
   "id": "02a96d64",
   "metadata": {},
   "outputs": [],
   "source": [
    "#Now logical filling of cells is at and end and the beginnng of the backtracker "
   ]
  },
  {
   "cell_type": "code",
   "execution_count": 10,
   "id": "431f19db",
   "metadata": {},
   "outputs": [],
   "source": [
    "def find_adjacent_undetermined(puzzle, n): #this is to determine cells in a more intuative way.\n",
    "    # First pass: look for undetermined cells adjacent to islands\n",
    "    for i in range(n):\n",
    "        for j in range(n):\n",
    "            if puzzle[i][j] == -1:\n",
    "                # Check if adjacent to an island cell\n",
    "                adjacent_to_island = False\n",
    "                directions = [(0, 1), (1, 0), (-1, 0), (0, -1)]  # Right, Down, Up, Left\n",
    "                for di, dj in directions:\n",
    "                    ni, nj = i + di, j + dj  # New indices\n",
    "                    if 0 <= ni < n and 0 <= nj < n and isinstance(puzzle[ni][nj], tuple):\n",
    "                        adjacent_to_island = True\n",
    "                        break\n",
    "                if adjacent_to_island:\n",
    "                    return (i, j)\n",
    "    \n",
    "    # Second pass: look for any undetermined cell if no adjacent ones found\n",
    "    for i in range(n):\n",
    "        for j in range(n):\n",
    "            if puzzle[i][j] == -1:\n",
    "                return (i, j)\n",
    "    \n",
    "    return None\n",
    "\n",
    "# Use this modified function in your backtracker"
   ]
  },
  {
   "cell_type": "code",
   "execution_count": 11,
   "id": "db1bac42",
   "metadata": {},
   "outputs": [],
   "source": [
    "# new initialisation function to get ready for backtracking:  \n",
    "# This initialisation was later realised that it is essential in order to implement a backtracker as i needed some way to identify if islands with the same clue do not merge together by accident. \n",
    "# a rule of nurikabe is that different islands cannot be touching, with my initial set up two islands with clues of the same number could be touching without recognition as the same number wouldnt flag up seperate islands next to one another. \n",
    "def assign_unique_ids(puzzle, n):\n",
    "    unique_id_counter = 1  # Start with 1 for the first unique ID\n",
    "    \n",
    "    for i in range(n):\n",
    "        for j in range(n):\n",
    "            if isinstance(puzzle[i][j], int) and puzzle[i][j] > 1:  #theres an island clue present \n",
    "                # the islands pf 1 dont need to have ID as they are surrounded by water in logical stages \n",
    "                # assign a unique number ID alongside the clue number \n",
    "                puzzle[i][j] = (puzzle[i][j], unique_id_counter)\n",
    "                unique_id_counter += 1  # Prepare the next unique ID for the next island clue\n",
    "                \n",
    "    return puzzle\n",
    "\n"
   ]
  },
  {
   "cell_type": "code",
   "execution_count": 12,
   "id": "8c3e7e8f",
   "metadata": {},
   "outputs": [],
   "source": [
    "def are_islands_adjacent(puzzle, n):\n",
    "    \n",
    "    #Checks if any two different islands (identified by unique IDs) are improperly adjacent to each other.\n",
    "    \n",
    "    \n",
    "    for i in range(n):\n",
    "        for j in range(n):\n",
    "            current_cell = puzzle[i][j]\n",
    "            # Only interested in island cells (ignore water and undetermined cells)\n",
    "            if isinstance(current_cell, tuple):\n",
    "                current_id = current_cell[1]  # get the unique ID\n",
    "                # check adjacent cells right and down to avoid double checks \n",
    "                 \n",
    "                 \n",
    "                \n",
    "                if j < n - 1: # only check adjacent cell on the right if it is within bounds \n",
    "                    right_cell = puzzle[i][j+1] \n",
    "                    #print(right_cell)\n",
    "                    if isinstance(right_cell, tuple) and right_cell[1] != current_id: #comparing the cell to the rights ID to current\n",
    "                        return False \n",
    "                \n",
    "                if i < n - 1: #only check down if cell below is within bounds \n",
    "                    down_cell = puzzle[i+1][j] \n",
    "                    #print(down_cell)\n",
    "                    if isinstance(down_cell, tuple) and down_cell[1] != current_id: \n",
    "                        return False    \n",
    "                ''''    \n",
    "                if j == n-1: # if in final col then check down only\n",
    "                    if isinstance(down_cell, tuple) and down_cell[1] != current_id: \n",
    "                        return False '''\n",
    "                    \n",
    "                \n",
    "                    \n",
    "                    \n",
    "    \n",
    "    return True  # No adjacent islands found"
   ]
  },
  {
   "cell_type": "code",
   "execution_count": 13,
   "id": "1eed1d5f",
   "metadata": {},
   "outputs": [],
   "source": [
    "def check_islands_overfilled(puzzle, n): # the next 3 functions work together to validate if islands are overfull or disconnected. \n",
    "    island_counts = {}  # Maps unique_id to count of cells\n",
    "    island_sizes = {}  # Maps unique_id to the island's clue number (expected size)\n",
    "\n",
    "    for i in range(n):\n",
    "        for j in range(n):\n",
    "            cell = puzzle[i][j]\n",
    "            if isinstance(cell, tuple):  # If the cell is part of an island\n",
    "                clue_number, unique_id = cell\n",
    "                island_counts[unique_id] = island_counts.get(unique_id, 0) + 1\n",
    "                island_sizes[unique_id] = clue_number # assigns the value of clue_number to the key unique_id within the island_sizes dictionary.\n",
    "\n",
    "    # Check if any island's cell count exceeds its clue number\n",
    "    for unique_id, count in island_counts.items():\n",
    "        if count > island_sizes[unique_id]:\n",
    "            return False  # Island is overfilled\n",
    "\n",
    "    return True  # No islands are overfilled"
   ]
  },
  {
   "cell_type": "code",
   "execution_count": 29,
   "id": "713e2883",
   "metadata": {},
   "outputs": [],
   "source": [
    "def dfs(puzzle, n, i, j, visited, unique_id):\n",
    "    if i < 0 or i >= n or j < 0 or j >= n:  # Out of bounds\n",
    "        return\n",
    "    if visited[i][j] or not isinstance(puzzle[i][j], tuple):  # Already visited or not part of an island\n",
    "        return\n",
    "    if puzzle[i][j][1] != unique_id:  # Different island\n",
    "        return\n",
    "    \n",
    "    visited[i][j] = True  # Mark as visited\n",
    "    directions = [(0, 1), (1, 0), (-1, 0), (0, -1)]  # Right, Down, Up, Left\n",
    "    for di, dj in directions:\n",
    "        dfs(puzzle, n, i + di, j + dj, visited, unique_id)\n",
    "\n",
    "def are_islands_connected(puzzle, n):\n",
    "    visited = [[False for _ in range(n)] for _ in range(n)]\n",
    "    for i in range(n):\n",
    "        for j in range(n):\n",
    "            cell = puzzle[i][j]\n",
    "            if isinstance(cell, tuple) and not visited[i][j]:  # If it's an unvisited island cell\n",
    "                unique_id = cell[1]\n",
    "                dfs(puzzle, n, i, j, visited, unique_id)\n",
    "                # After DFS, check if there are any unvisited cells with the same unique_id\n",
    "                for x in range(n):\n",
    "                    for y in range(n):\n",
    "                        if isinstance(puzzle[x][y], tuple) and puzzle[x][y][1] == unique_id and not visited[x][y]:\n",
    "                            return False  # Found an unvisited cell of the same island, so it's not fully connected\n",
    "    return True\n",
    "\n"
   ]
  },
  {
   "cell_type": "code",
   "execution_count": 14,
   "id": "a849b720",
   "metadata": {},
   "outputs": [],
   "source": [
    "def dfs_water(puzzle, n, i, j, visited):\n",
    "    #DFS to explore water connectivity \n",
    "    \n",
    "    # Base conditions: Check if the current cell is out of bounds or already visited\n",
    "    if i < 0 or i >= n or j < 0 or j >= n or visited[i][j]:\n",
    "        return\n",
    "    \n",
    "    # Mark the current cell as visited\n",
    "    visited[i][j] = True\n",
    "    \n",
    "    # Continue only if the current cell is water\n",
    "    if puzzle[i][j] == 0 or puzzle[i][j] == -1:\n",
    "        # Explore adjacent cells: up, down, left, right\n",
    "        directions = [(0, 1), (1, 0), (-1, 0), (0, -1)]\n",
    "        for di, dj in directions:\n",
    "            dfs_water(puzzle, n, i + di, j + dj, visited)\n",
    "\n",
    "def is_water_connected(puzzle, n):\n",
    "    \n",
    "    #Checks if all water cells in the puzzle are connected.\n",
    "    \n",
    "  \n",
    "    \n",
    "    \n",
    "    visited = [[False for _ in range(n)] for _ in range(n)]\n",
    "    \n",
    "    # Find the first water cell to start the DFS\n",
    "    found_water = False\n",
    "    for i in range(n):\n",
    "        for j in range(n):\n",
    "            if puzzle[i][j] == 0:\n",
    "                dfs_water(puzzle, n, i, j, visited)\n",
    "                found_water = True\n",
    "                break\n",
    "        if found_water:\n",
    "            break\n",
    "    \n",
    "    # If no water cell is found, then it's considered connected by default\n",
    "    if not found_water:\n",
    "        return True\n",
    "    \n",
    "    # Check if there are any unvisited water cells after the DFS\n",
    "    for i in range(n):\n",
    "        for j in range(n):\n",
    "            if puzzle[i][j] == 0 and not visited[i][j]:\n",
    "                # Found an unvisited water cell, indicating disconnected water regions\n",
    "                return False\n",
    "                \n",
    "    return True  # All water cells are connected"
   ]
  },
  {
   "cell_type": "code",
   "execution_count": 15,
   "id": "76a5643c",
   "metadata": {},
   "outputs": [],
   "source": [
    "def island_options(puzzle, n): # makes 0 the final index of the island options list. \n",
    "    list_cell_guesses = []  # Start with an empty list for island cells\n",
    "    \n",
    "    # Collect island cell guesses first\n",
    "    for i in range(n):\n",
    "        for j in range(n):\n",
    "            cell = puzzle[i][j]\n",
    "            if isinstance(cell, tuple):  # If the cell is part of an island\n",
    "                # Add island cells (tuples) to the list of guesses\n",
    "                list_cell_guesses.append(cell)\n",
    "    \n",
    "    # Append water cell (0) as the last option\n",
    "    list_cell_guesses.append(0)\n",
    "    \n",
    "    return list_cell_guesses "
   ]
  },
  {
   "cell_type": "code",
   "execution_count": 17,
   "id": "38f7664c",
   "metadata": {},
   "outputs": [],
   "source": [
    "def backtrack(puzzle,guesses,n): \n",
    "    puzzle_copy = copy.deepcopy(puzzle)\n",
    "    #guesses = island_options(puzzle,n) \n",
    "    #find = find_cell(puzzle,n) \n",
    "    find = find_adjacent_undetermined(puzzle, n)\n",
    "    if not find: \n",
    "        return True, puzzle\n",
    "    else: \n",
    "        row, col = find \n",
    "        \n",
    "    for guess in guesses: \n",
    "        puzzle_copy = copy.deepcopy(puzzle) \n",
    "        if is_it_valid2(puzzle_copy, guess, (row,col),n) is True: \n",
    "            puzzle[row][col]= guess \n",
    "            #print(puzzle) \n",
    "            \n",
    "            if backtrack(puzzle,guesses,n): \n",
    "                return True\n",
    "            \n",
    "            puzzle[row][col] = -1 # resets if path isnt found. \n",
    "            \n",
    "    return False "
   ]
  },
  {
   "cell_type": "code",
   "execution_count": 20,
   "id": "57d011cc",
   "metadata": {},
   "outputs": [
    {
     "data": {
      "text/plain": [
       "False"
      ]
     },
     "execution_count": 20,
     "metadata": {},
     "output_type": "execute_result"
    }
   ],
   "source": [
    "# need a function to count the number of each cell unique ID and also count the number of undetermined cells. \n",
    "\n",
    "def check_islands_underfilled(puzzle, n):\n",
    "    island_counts_2 = {}  # Maps unique_id to count of cells belonging to the island\n",
    "    island_sizes_2 = {}  # Maps unique_id to the island's clue number (expected size)\n",
    "    undetermined_cells_count = 0  # Count of undetermined cells\n",
    "    \n",
    "    # Iterate through the puzzle to populate island_counts and island_sizes\n",
    "    for i in range(n):\n",
    "        for j in range(n):\n",
    "            cell = puzzle[i][j]\n",
    "            if isinstance(cell, tuple):  # If the cell is part of an island\n",
    "                clue_number, unique_id = cell\n",
    "                island_counts_2[unique_id] = island_counts_2.get(unique_id, 0) + 1\n",
    "                if unique_id not in island_sizes_2:\n",
    "                    island_sizes_2[unique_id] = clue_number\n",
    "            elif cell == -1:  # If the cell is undetermined\n",
    "                undetermined_cells_count += 1\n",
    "\n",
    "    # Check if any island is underfilled\n",
    "    for unique_id, clue_number in island_sizes_2.items():\n",
    "        island_count = island_counts_2[unique_id]\n",
    "        # The sum of island cells and undetermined cells should not be less than the clue number\n",
    "        if clue_number > island_count + undetermined_cells_count:\n",
    "            return False  # It's impossible to complete the island with the remaining cells\n",
    "\n",
    "    return True  # It's still possible to complete all islands\n",
    "\n",
    "            \n",
    "check_islands_underfilled([[0, 0, 1, 0, 0], [0, (3, 1), 0, (2, 2), 0], [0, (3, 1), 0, 0, 0], [0, (3, 1), 0, (2, 3), 0], [0, 0, 0, (2, 3), 0]],5)            \n",
    "            "
   ]
  },
  {
   "cell_type": "code",
   "execution_count": 27,
   "id": "1fdf110a",
   "metadata": {},
   "outputs": [],
   "source": [
    "def is_it_valid2(puzzle, guess, position ,n): \n",
    "    \n",
    "    # inputting the guess \n",
    "    temp_puzzle = copy.deepcopy(puzzle)\n",
    "    row,col = position \n",
    "    #copy \n",
    "    temp_puzzle[row][col] = guess\n",
    "    \n",
    "    #NO 2X2 AREA OF BLACK CHECKER \n",
    "    \n",
    "    # Iterate through the grid, stopping before the last row and column\n",
    "    # to ensure we don't go out of bounds when checking 2x2 areas.\n",
    "    for row in range(n - 1):\n",
    "        for col in range(n - 1):\n",
    "            # Check the current 2x2 square\n",
    "            if temp_puzzle[row][col] == 0 and \\\n",
    "               temp_puzzle[row][col + 1] == 0 and \\\n",
    "               temp_puzzle[row + 1][col] == 0 and \\\n",
    "               temp_puzzle[row + 1][col + 1] == 0:\n",
    "                return \"2x2 black\" , False  # Found a 2x2 area of 0s, not a valid configuration \n",
    "            \n",
    "    # ARE ISLANDS OVERFILLED \n",
    "    island_counts = {}  # Maps unique_id to count of cells\n",
    "    island_sizes = {}  # Maps unique_id to the island's clue number (expected size)\n",
    "\n",
    "    for i in range(n):\n",
    "        for j in range(n):\n",
    "            cell = temp_puzzle[i][j]\n",
    "            if isinstance(cell, tuple):  # If the cell is part of an island\n",
    "                clue_number, unique_id = cell\n",
    "                island_counts[unique_id] = island_counts.get(unique_id, 0) + 1\n",
    "                island_sizes[unique_id] = clue_number # assigns the value of clue_number to the key unique_id within the island_sizes dictionary.\n",
    "\n",
    "    # Check if any island's cell count exceeds its clue number\n",
    "    for unique_id, count in island_counts.items():\n",
    "        if count > island_sizes[unique_id]:\n",
    "            return \"overfilled island\", False  # Island is overfilled  \n",
    "        \n",
    "        \n",
    "    \n",
    "    # ARE THERE TOUCHING ISLANDS OF DIFF ID \n",
    "    for i in range(n):\n",
    "        for j in range(n):\n",
    "            current_cell = temp_puzzle[i][j]\n",
    "            # Only interested in island cells (ignore water and undetermined cells)\n",
    "            if isinstance(current_cell, tuple):\n",
    "                current_id = current_cell[1]  # get the unique ID\n",
    "                # check adjacent cells right and down to avoid double checks \n",
    "                 \n",
    "                 \n",
    "                \n",
    "                if j < n - 1: # only check adjacent cell on the right if it is within bounds \n",
    "                    #print('cell on right checked')\n",
    "                    right_cell = temp_puzzle[i][j+1] \n",
    "                    #print(right_cell)\n",
    "                    if isinstance(right_cell, tuple) and right_cell[1] != current_id: #comparing the cell to the rights ID to current\n",
    "                        return False, \"touching\"\n",
    "                \n",
    "                if i < n - 1: #only check down if cell below is within bounds \n",
    "                    #print('cell below checked')\n",
    "                    down_cell = temp_puzzle[i+1][j] \n",
    "                    #print(down_cell)\n",
    "                    if isinstance(down_cell, tuple) and down_cell[1] != current_id: \n",
    "                        return False, \"touching\" \n",
    "        \n",
    "    \n",
    "    # ARE ISLANDS CONNECTED \n",
    "    \n",
    "    visited = [[False for _ in range(n)] for _ in range(n)]\n",
    "    for i in range(n):\n",
    "        for j in range(n):\n",
    "            cell = temp_puzzle[i][j]\n",
    "            if isinstance(cell, tuple) and not visited[i][j]:  # If it's an unvisited island cell\n",
    "                unique_id = cell[1]\n",
    "                dfs(temp_puzzle, n, i, j, visited, unique_id)\n",
    "                # After DFS, check if there are any unvisited cells with the same unique_id\n",
    "                for x in range(n):\n",
    "                    for y in range(n):\n",
    "                        if isinstance(temp_puzzle[x][y], tuple) and temp_puzzle[x][y][1] == unique_id and not visited[x][y]:\n",
    "                            return \"disconnected island\", False  # Found an unvisited cell of the same island, so it's not fully connected\n",
    "        \n",
    "    # IS WATER CONNECTED \n",
    "    visited_water = [[False for _ in range(n)] for _ in range(n)]\n",
    "    \n",
    "    # Find the first water cell to start the DFS\n",
    "    found_water = False\n",
    "    for i in range(n):\n",
    "        for j in range(n):\n",
    "            if temp_puzzle[i][j] == 0:\n",
    "                dfs_water(temp_puzzle, n, i, j, visited_water)\n",
    "                found_water = True\n",
    "                break\n",
    "        if found_water:\n",
    "            break\n",
    "    \n",
    "    # If no water cell is found, then it's considered connected by default\n",
    "    if not found_water:\n",
    "        return True\n",
    "    \n",
    "    # Check if there are any unvisited water cells after the DFS\n",
    "    for i in range(n):\n",
    "        for j in range(n):\n",
    "            if temp_puzzle[i][j] == 0 and not visited_water[i][j]: \n",
    "                \n",
    "                # Found an unvisited water cell, indicating disconnected water regions\n",
    "                return False  \n",
    "    \n",
    "    #ARE ISLANDS UNDERFILLED \n",
    "    \n",
    "    island_counts_2 = {}  # Maps unique_id to count of cells belonging to the island\n",
    "    island_sizes_2 = {}  # Maps unique_id to the island's clue number (expected size)\n",
    "    undetermined_cells_count = 0  # Count of undetermined cells\n",
    "    \n",
    "    # Iterate through the puzzle to populate island_counts and island_sizes\n",
    "    for i in range(n):\n",
    "        for j in range(n):\n",
    "            cell = temp_puzzle[i][j]\n",
    "            if isinstance(cell, tuple):  # If the cell is part of an island\n",
    "                clue_number, unique_id = cell\n",
    "                island_counts_2[unique_id] = island_counts_2.get(unique_id, 0) + 1\n",
    "                if unique_id not in island_sizes_2:\n",
    "                    island_sizes_2[unique_id] = clue_number\n",
    "            elif cell == -1:  # If the cell is undetermined\n",
    "                undetermined_cells_count += 1\n",
    "\n",
    "    # Check if any island is \"undefilled\"\n",
    "    for unique_id, clue_number in island_sizes_2.items():\n",
    "        island_count = island_counts_2[unique_id]\n",
    "        # The sum of island cells and undetermined cells should not be less than the clue number\n",
    "        if clue_number > island_count + undetermined_cells_count:\n",
    "            return False  # It's impossible to complete the island with the remaining cells\n",
    "\n",
    "    \n",
    "    \n",
    "    return True # if it passes all tests"
   ]
  },
  {
   "cell_type": "code",
   "execution_count": 22,
   "id": "91f0d7dc",
   "metadata": {},
   "outputs": [],
   "source": [
    "# function to take the tuples and just rewrap them and single value entries without unique ID after function has solved \n",
    "def rewrap(puzzle,n): \n",
    "    for row in range(n): \n",
    "        for col in range(n): \n",
    "            cell = puzzle[row][col]\n",
    "            if isinstance(cell,tuple) :  \n",
    "                cell_value = cell[0] \n",
    "                puzzle[row][col] = cell_value \n",
    "    return puzzle"
   ]
  },
  {
   "cell_type": "code",
   "execution_count": 23,
   "id": "48d5ffcc",
   "metadata": {},
   "outputs": [],
   "source": [
    "# now to put all of it together: \n",
    "\n",
    "def solve(clues,n): # input a 1d list of clues, and size of nurikabe grid edge n  \n",
    "    #logical water fill in from clues  \n",
    "    a = perf_counter()\n",
    "    puzzle = setup_nurikabe(clues,n) \n",
    "    puzzle = island_of_one(puzzle,n)  \n",
    "    puzzle = clues_separated_by_one(puzzle,n) \n",
    "    puzzle = diagonal_clues(puzzle,n) \n",
    "    puzzle = surrounded_square(puzzle,n) \n",
    "    puzzle = expand_water(puzzle, n) \n",
    "    #initialise the puzzle into tuple data format in order to work with backtracking algorithm \n",
    "    puzzle = assign_unique_ids(puzzle, n) \n",
    "    guesses = island_options(puzzle,n) \n",
    "    #print(guesses)\n",
    "    #print(puzzle)\n",
    "    backtrack(puzzle,guesses,n) \n",
    "    rewrap(puzzle,n) \n",
    "    b = perf_counter() \n",
    "    print(b-a) \n",
    "    #eight_times_4.append(b-a)\n",
    "    return puzzle\n",
    "    \n",
    "    \n",
    "    "
   ]
  },
  {
   "cell_type": "code",
   "execution_count": 22,
   "id": "22f665a8",
   "metadata": {},
   "outputs": [
    {
     "name": "stdout",
     "output_type": "stream",
     "text": [
      "0.003740077999999869\n"
     ]
    }
   ],
   "source": [
    "from time import perf_counter\n",
    "a = perf_counter()\n",
    "i = 0\n",
    "while i<10000:\n",
    "    i+=1\n",
    "b=perf_counter()\n",
    "print(b-a)"
   ]
  },
  {
   "cell_type": "code",
   "execution_count": 30,
   "id": "54ed2770",
   "metadata": {},
   "outputs": [],
   "source": [
    "\n",
    "\n",
    "five_by_five = [0.020138459999998304, 0.009659417999955622, 0.014183861000219622, 0.0165032719996816, 0.027524428000106127, 0.015545384000233753, 0.010743968000042514, 0.010722092000378325, 0.009357559999898513, 0.009640397000111989, 0.010496390999833238, 0.01022741099995983, 0.011791384999924048, 0.01042320699980337, 0.009297268999944208, 0.010162658000353986, 0.011259383999913553, 0.010330033000172989, 0.009946405999926355, 0.00998490199981461]\n",
    "five_times_2 = [0.02941605000000891, 0.030113872000015363, 0.029338887999983854, 0.029118041999936395, 0.04327842800000781, 0.0217922599999838, 0.024446140999998534, 0.02016235600001437, 0.019722624999985783, 0.01968262799994136, 0.020489397999995163, 0.021212353000009898, 0.019669509999971524, 0.030835427999932108, 0.03513582300001872, 0.020950790000028974, 0.018648364000000583, 0.019973278999941613, 0.02000487999998768, 0.018464150999989215]\n",
    "five_times_3 = [0.00590653899996596, 0.0095690679999052, 0.007130248000066786, 0.006079870999997183, 0.006126744999960465, 0.005769075999978668, 0.0067673690000447095, 0.008648769000046741, 0.0058563720000393005, 0.005993225999986862, 0.005621265000058884, 0.006146585000010418, 0.0069076159999212905, 0.0079960770000298, 0.00868658400008826, 0.01113509599997542, 0.005544549000092047, 0.00854087499999423, 0.007662797999955728, 0.0055298889999448875]\n",
    "five_times_4 = [0.022468741000011505, 0.015854484999977103, 0.016261980999956904, 0.0210184960000106, 0.017219307000004846, 0.022014949999970668, 0.015296088000013697, 0.01142540499995448, 0.00810039999998935, 0.010027572000012697, 0.009729788000072404, 0.007938601000091694, 0.007613010999989456, 0.00785985899995012, 0.008140985000068213, 0.007957320000059553, 0.008130834999974468, 0.009062473999961185, 0.013292859999978646, 0.01561662200003866]\n",
    "###############-----------\n",
    "six_by_six = [0.03031000100008896, 0.026148224999815284, 0.02522690599971611, 0.025509927999792126, 0.027806094999959896, 0.02239852399998199, 0.02429644499989081, 0.04534646899992367, 0.022756363000098645, 0.023683285000061005, 0.023594241999944643, 0.024088389000098687, 0.023189557000023342, 0.08221510400016996, 0.025000225999974646, 0.02892845299993496, 0.049711364999893703, 0.02527333699981682, 0.03062690200022189, 0.026554771000064648]\n",
    "six_time_2 = [0.037153805000116336, 0.03800797200005945, 0.04370109200021943, 0.04790467899988471, 0.026982691000057457, 0.021658504000015455, 0.021649311999908605, 0.02606178600012754, 0.023605780000025334, 0.026044369000146617, 0.02195580600005087, 0.03204790699987825, 0.03358474500009834, 0.023609400999930585, 0.0215925889999653, 0.0210193350001191, 0.02174540800001523, 0.025230494999959774, 0.024052057000062632, 0.021428405000051498]\n",
    "six_times_3 = [2.8043317310000475, 2.921714786999928, 2.7873944479999864, 2.8993827780000174, 2.898637400000098, 2.751865003000148, 2.68073858799994, 2.5545549589999155, 2.597368677000077, 2.5033816160000697, 2.5121580940001422, 2.5598042149999856, 2.6527240949999396, 2.527152964999914, 2.6010609889999614, 2.515199333000055, 2.668374252999911, 2.757290666000017, 2.752326934999928, 2.7357787949999874]\n",
    "six_times_4 = [0.024075060000086523, 0.0317978379998749, 0.024249223999959213, 0.027145135999944614, 0.031169877000138513, 0.022279747999846222, 0.019830441000067367, 0.019829595999908634, 0.020394581999880756, 0.020508762999952523, 0.023550047000071572, 0.026660487000071953, 0.020379186000127447, 0.020536340000035125, 0.02209235999998782, 0.019822749000013573, 0.019793042000173955, 0.020273924999855808, 0.01980552700001681, 0.02048287499997059]\n",
    "###################\n",
    "seven_by_seven = [0.3023759659999996, 0.19903157199996713, 0.20884590500008926, 0.20459406899999522, 0.23114335499985827, 0.23681113399970855, 0.20127981299992825, 0.1978363690000151, 0.19803349499989054, 0.20319270499976483, 0.2014158080000925, 0.23328418399978545, 0.21350016500036872, 0.2309866359996704, 0.22585887600007482, 0.19943334099980348, 0.20193970399986938, 0.20147489700002552, 0.20087742699979572, 0.19793760299990026]\n",
    "seven_times_2 = [18.74202404300013, 18.8105955799997, 19.98090523000019, 21.247952534999968, 20.495972807999806, 18.97357399600014, 18.75427999500016, 18.88466180899968, 18.701434035000148, 18.746740829999908, 18.960970835000353, 18.698343139999906, 18.75512661899984, 18.640304644000025, 18.919179787999838, 18.729092091999973, 18.704197681000096, 18.890868388999934, 18.854325363000044, 18.952795306000098]\n",
    "seven_times_3 = [4.857921325000007, 4.607625058999929, 4.6826851499999975, 4.584440680000171, 4.775569279000138, 4.5991464580001775, 4.640480722999655, 4.595470116999877, 4.766452286999993, 4.604764143000011, 4.642220126999746, 4.754758214000049, 4.689285457000096, 4.691332981999949, 4.6542281150000235, 4.6625431610000305, 4.5963240839996615, 4.6319482509998124, 4.744189226999879, 4.934852621000118]\n",
    "seven_times_4 = [2.339203530999839, 2.1246244220001245, 2.063821813999766, 2.053580411999974, 2.0558970570000383, 2.0954925270002605, 2.132358325000041, 2.1227526249999755, 2.0465842439998596, 2.0509669580001173, 2.104020109999965, 2.042856237000251, 2.207494902000235, 2.0953207150000708, 2.098612140000114, 2.0555797269998948, 2.1754010529998595, 2.050329149999925, 2.086869095000111, 2.094852811999772]\n",
    "##########\n",
    "eight_by_eight = [67.32633274, 73.64055010999982, 71.39894955700038, 88.52961265700014, 74.42674419100013, 74.74586813800033, 71.76481575999969, 73.16895772400039, 62.24984206699992, 64.06402136500037, 63.24868603200048, 62.216787629000464, 64.55883365400041, 60.94843515299999, 61.442529004999415, 61.33200845900046, 60.84658622000006, 64.70655807900039, 61.808629483000004, 60.95557664500029] \n",
    "eight_times_2 = [173.79242972900056, 188.88570893399992, 179.14860474000034, 180.07423941999969, 194.06049647600048, 203.6175628839992, 209.3093105550006, 200.54553878299976]\n",
    "eight_times_3 = [216.9265629950005, 216.5633195800001, 214.2753843750006, 214.0869123249995, 216.2852685349999] \n",
    "eight_times_4 = [30.358715086000302, 30.395317319999776, 29.628405945999475, 29.402296341999318, 29.63325480200001, 29.64146058499955, 29.35356426100043, 29.656081566000466, 30.769052896000176, 29.625988167000287]\n",
    "#nine_by_nine = [15.014619454999774, 14.709428457000286, 14.641158881000592, 14.879704611000307, 14.604175962999761, 14.774193807999836, 14.671361358000468, 15.84338524099985, 14.901243801000419, 14.625724648999494, 14.610105122999812, 14.645820659000492, 14.585570078000273, 14.713449521000257, 14.70410128200001, 14.669327714999781, 15.037730545000159, 14.889245509999455, 14.881650915998762, 14.699553012000251] \n"
   ]
  },
  {
   "cell_type": "code",
   "execution_count": 31,
   "id": "4401fa38",
   "metadata": {},
   "outputs": [
    {
     "name": "stdout",
     "output_type": "stream",
     "text": [
      "[30.358715086000302, 30.395317319999776, 29.628405945999475, 29.402296341999318, 29.63325480200001, 29.64146058499955, 29.35356426100043, 29.656081566000466, 30.769052896000176, 29.625988167000287]\n"
     ]
    }
   ],
   "source": [
    "#print(five_by_five)\n",
    "#print(six_by_six) \n",
    "#print(seven_by_seven) \n",
    "#print(eight_by_eight) \n",
    "print(eight_times_4)"
   ]
  },
  {
   "cell_type": "code",
   "execution_count": 32,
   "id": "cbaa9444",
   "metadata": {},
   "outputs": [
    {
     "ename": "NameError",
     "evalue": "name 'eight_4' is not defined",
     "output_type": "error",
     "traceback": [
      "\u001b[0;31m---------------------------------------------------------------------------\u001b[0m",
      "\u001b[0;31mNameError\u001b[0m                                 Traceback (most recent call last)",
      "Input \u001b[0;32mIn [32]\u001b[0m, in \u001b[0;36m<cell line: 2>\u001b[0;34m()\u001b[0m\n\u001b[1;32m      1\u001b[0m count \u001b[38;5;241m=\u001b[39m \u001b[38;5;241m0\u001b[39m \n\u001b[1;32m      2\u001b[0m \u001b[38;5;28;01mwhile\u001b[39;00m count \u001b[38;5;241m<\u001b[39m \u001b[38;5;241m10\u001b[39m: \n\u001b[0;32m----> 3\u001b[0m     solve(\u001b[43meight_4\u001b[49m,\u001b[38;5;241m8\u001b[39m)\n\u001b[1;32m      4\u001b[0m     count \u001b[38;5;241m=\u001b[39m count\u001b[38;5;241m+\u001b[39m\u001b[38;5;241m1\u001b[39m\n",
      "\u001b[0;31mNameError\u001b[0m: name 'eight_4' is not defined"
     ]
    }
   ],
   "source": [
    "count = 0 \n",
    "while count < 10: \n",
    "    solve(eight_4,8)\n",
    "    count = count+1  \n",
    "#print(nine_by_nine2)"
   ]
  },
  {
   "cell_type": "code",
   "execution_count": 33,
   "id": "d6d8b3ad",
   "metadata": {},
   "outputs": [
    {
     "name": "stdout",
     "output_type": "stream",
     "text": [
      "0.00929781899998261\n"
     ]
    },
    {
     "data": {
      "text/plain": [
       "[[3, 3, 3, 0, 1],\n",
       " [0, 0, 0, 0, 0],\n",
       " [2, 2, 0, 2, 2],\n",
       " [0, 0, 0, 0, 0],\n",
       " [3, 3, 3, 0, 1]]"
      ]
     },
     "execution_count": 33,
     "metadata": {},
     "output_type": "execute_result"
    }
   ],
   "source": [
    "#5x5 solved\n",
    "solve([3,0,0,0,1,0,0,0,0,0,0,2,0,2,0,0,0,0,0,0,3,0,0,0,1],5) #5x5 solved "
   ]
  },
  {
   "cell_type": "code",
   "execution_count": 34,
   "id": "269cd83e",
   "metadata": {},
   "outputs": [],
   "source": [
    "#5x5 2 \n",
    "five_2 = [0,0,3,0,0,0,0,0,2,0,0,0,0,0,0,0,0,3,0,0,0,0,0,0,1]"
   ]
  },
  {
   "cell_type": "code",
   "execution_count": 34,
   "id": "d5ba0d8e",
   "metadata": {},
   "outputs": [
    {
     "name": "stdout",
     "output_type": "stream",
     "text": [
      "25\n"
     ]
    }
   ],
   "source": [
    "five_3 = [0,0,0,0,0,0,0,0,1,0,0,0,0,0,0,0,0,0,0,0,6,0,3,0,2]\n",
    "#print(len(five_3))"
   ]
  },
  {
   "cell_type": "code",
   "execution_count": 35,
   "id": "83e9e15c",
   "metadata": {},
   "outputs": [
    {
     "name": "stdout",
     "output_type": "stream",
     "text": [
      "[0.022468741000011505, 0.015854484999977103, 0.016261980999956904, 0.0210184960000106, 0.017219307000004846, 0.022014949999970668, 0.015296088000013697, 0.01142540499995448, 0.00810039999998935, 0.010027572000012697, 0.009729788000072404, 0.007938601000091694, 0.007613010999989456, 0.00785985899995012, 0.008140985000068213, 0.007957320000059553, 0.008130834999974468, 0.009062473999961185, 0.013292859999978646, 0.01561662200003866]\n"
     ]
    }
   ],
   "source": [
    "five_4 = [7,0,0,2,0,0,0,1,0,0,0,0,0,2,0,0,0,0,0,0,0,0,0,0,0] \n",
    "print(five_times_4)"
   ]
  },
  {
   "cell_type": "code",
   "execution_count": 24,
   "id": "dc0154ff",
   "metadata": {},
   "outputs": [
    {
     "name": "stdout",
     "output_type": "stream",
     "text": [
      "0.024001437999913833\n"
     ]
    },
    {
     "data": {
      "text/plain": [
       "[[0, 0, 0, 0, 0, 6],\n",
       " [0, 1, 0, 3, 0, 6],\n",
       " [5, 0, 3, 3, 0, 6],\n",
       " [5, 0, 0, 0, 0, 6],\n",
       " [5, 0, 2, 2, 0, 6],\n",
       " [5, 5, 0, 0, 0, 6]]"
      ]
     },
     "execution_count": 24,
     "metadata": {},
     "output_type": "execute_result"
    }
   ],
   "source": [
    "#6x6 solved\n",
    "solve([0,0,0,0,0,0,0,1,0,0,0,0,5,0,3,0,0,0,0,0,0,0,0,0,0,0,2,0,0,6,0,0,0,0,0,0],6) "
   ]
  },
  {
   "cell_type": "code",
   "execution_count": 37,
   "id": "cd265c04",
   "metadata": {},
   "outputs": [],
   "source": [
    "six_2 = [2,0,5,0,0,0,0,0,0,0,0,0,0,0,0,1,0,0,0,0,0,0,0,2,0,2,0,0,0,0,1,0,0,0,4,0] \n",
    "#print(six_time_2)"
   ]
  },
  {
   "cell_type": "code",
   "execution_count": 61,
   "id": "3773a23a",
   "metadata": {},
   "outputs": [
    {
     "name": "stdout",
     "output_type": "stream",
     "text": [
      "[2.8043317310000475, 2.921714786999928, 2.7873944479999864, 2.8993827780000174, 2.898637400000098, 2.751865003000148, 2.68073858799994, 2.5545549589999155, 2.597368677000077, 2.5033816160000697, 2.5121580940001422, 2.5598042149999856, 2.6527240949999396, 2.527152964999914, 2.6010609889999614, 2.515199333000055, 2.668374252999911, 2.757290666000017, 2.752326934999928, 2.7357787949999874]\n"
     ]
    }
   ],
   "source": [
    "six_3 = [0,0,4,0,0,3,0,0,0,0,0,0,0,0,0,0,0,0,3,0,0,1,0,0,0,0,3,0,0,2,1,0,0,0,0,0]\n",
    "print(six_times_3)"
   ]
  },
  {
   "cell_type": "code",
   "execution_count": 38,
   "id": "d4a19b82",
   "metadata": {},
   "outputs": [
    {
     "name": "stdout",
     "output_type": "stream",
     "text": [
      "36\n"
     ]
    }
   ],
   "source": [
    "six_4 = [0,0,6,0,0,0,0,0,0,0,0,0,0,0,0,1,0,0,0,0,3,0,3,0,0,0,0,0,0,0,0,0,6,0,0,0]\n",
    "print(len(six_4))"
   ]
  },
  {
   "cell_type": "code",
   "execution_count": 25,
   "id": "b21ef50d",
   "metadata": {},
   "outputs": [
    {
     "name": "stdout",
     "output_type": "stream",
     "text": [
      "0.25869504100000995\n"
     ]
    },
    {
     "data": {
      "text/plain": [
       "[[4, 4, 4, 4, 0, 2, 2],\n",
       " [0, 0, 0, 0, 0, 0, 0],\n",
       " [0, 1, 0, 4, 4, 4, 0],\n",
       " [2, 0, 0, 0, 0, 4, 0],\n",
       " [2, 0, 5, 5, 0, 0, 3],\n",
       " [0, 0, 5, 5, 5, 0, 3],\n",
       " [2, 2, 0, 0, 0, 0, 3]]"
      ]
     },
     "execution_count": 25,
     "metadata": {},
     "output_type": "execute_result"
    }
   ],
   "source": [
    "#7x7 solved\n",
    "solve([0,0,4,0,0,0,2,0,0,0,0,0,0,0,0,1,0,0,0,0,0,0,0,0,0,0,4,0,2,0,0,0,0,0,3,0,0,5,0,0,0,0,2,0,0,0,0,0,0],7)\n"
   ]
  },
  {
   "cell_type": "code",
   "execution_count": 30,
   "id": "e0efe9ac",
   "metadata": {},
   "outputs": [
    {
     "name": "stdout",
     "output_type": "stream",
     "text": [
      "0.11514015199986716\n"
     ]
    },
    {
     "data": {
      "text/plain": [
       "[[0, 2, 2, 0, 2, 2, 0],\n",
       " [0, 0, 0, 0, 0, 0, 0],\n",
       " [5, 5, 5, 5, 5, 0, 1],\n",
       " [0, 0, 0, 0, 0, 0, 0],\n",
       " [2, 2, 0, 4, 4, 0, 2],\n",
       " [0, 0, 0, 0, 4, 0, 2],\n",
       " [0, 2, 2, 0, 4, 0, 0]]"
      ]
     },
     "execution_count": 30,
     "metadata": {},
     "output_type": "execute_result"
    }
   ],
   "source": [
    "#7x7 solved almost instantly\n",
    "solve([0,0,2,0,2,0,0,0,0,0,0,0,0,0,5,0,0,0,0,0,1,0,0,0,0,0,0,0,2,0,0,0,0,0,2,0,0,0,0,0,0,0,0,0,2,0,4,0,0],7)"
   ]
  },
  {
   "cell_type": "code",
   "execution_count": 40,
   "id": "9da571dc",
   "metadata": {},
   "outputs": [
    {
     "name": "stdout",
     "output_type": "stream",
     "text": [
      "49\n"
     ]
    }
   ],
   "source": [
    "seven_2 = [0,2,0,0,0,0,0,0,0,0,3,0,1,0,0,0,0,0,0,0,0,0,0,0,0,3,0,0,3,0,0,0,0,3,0,0,1,0,0,0,0,0,0,0,0,4,0,0,0]\n",
    "print(len(seven_2))"
   ]
  },
  {
   "cell_type": "code",
   "execution_count": 41,
   "id": "69cc635e",
   "metadata": {},
   "outputs": [
    {
     "name": "stdout",
     "output_type": "stream",
     "text": [
      "[4.857921325000007, 4.607625058999929, 4.6826851499999975, 4.584440680000171, 4.775569279000138, 4.5991464580001775, 4.640480722999655, 4.595470116999877, 4.766452286999993, 4.604764143000011, 4.642220126999746, 4.754758214000049, 4.689285457000096, 4.691332981999949, 4.6542281150000235, 4.6625431610000305, 4.5963240839996615, 4.6319482509998124, 4.744189226999879, 4.934852621000118]\n"
     ]
    }
   ],
   "source": [
    "seven_3 = [2,0,0,0,0,2,0,0,0,0,1,0,0,0,0,0,2,0,2,0,0,0,0,0,0,0,0,0,0,0,0,0,3,0,4,3,0,1,0,0,0,0,0,0,0,0,0,0,0]\n",
    "print(seven_times_3)"
   ]
  },
  {
   "cell_type": "code",
   "execution_count": 42,
   "id": "6f75186d",
   "metadata": {},
   "outputs": [
    {
     "name": "stdout",
     "output_type": "stream",
     "text": [
      "49\n"
     ]
    }
   ],
   "source": [
    "seven_4 = [0,0,0,0,6,0,0,0,0,0,0,0,0,0,0,0,0,0,0,0,0,2,0,3,0,3,0,4,0,0,0,0,0,0,0,1,0,0,0,2,0,1,0,0,0,0,0,0,0]\n",
    "print(len(seven_4))"
   ]
  },
  {
   "cell_type": "code",
   "execution_count": 26,
   "id": "4daddf22",
   "metadata": {},
   "outputs": [
    {
     "ename": "KeyboardInterrupt",
     "evalue": "",
     "output_type": "error",
     "traceback": [
      "\u001b[0;31m---------------------------------------------------------------------------\u001b[0m",
      "\u001b[0;31mKeyboardInterrupt\u001b[0m                         Traceback (most recent call last)",
      "Input \u001b[0;32mIn [26]\u001b[0m, in \u001b[0;36m<cell line: 2>\u001b[0;34m()\u001b[0m\n\u001b[1;32m      1\u001b[0m \u001b[38;5;66;03m#8x8 solved much more slowly. around 1-2 minutes https://puzzlemadness.co.uk/nurikabe/medium/2024/3/1\u001b[39;00m\n\u001b[0;32m----> 2\u001b[0m \u001b[43msolve\u001b[49m\u001b[43m(\u001b[49m\u001b[43m[\u001b[49m\u001b[38;5;241;43m0\u001b[39;49m\u001b[43m,\u001b[49m\u001b[38;5;241;43m0\u001b[39;49m\u001b[43m,\u001b[49m\u001b[38;5;241;43m0\u001b[39;49m\u001b[43m,\u001b[49m\u001b[38;5;241;43m0\u001b[39;49m\u001b[43m,\u001b[49m\u001b[38;5;241;43m5\u001b[39;49m\u001b[43m,\u001b[49m\u001b[38;5;241;43m0\u001b[39;49m\u001b[43m,\u001b[49m\u001b[38;5;241;43m0\u001b[39;49m\u001b[43m,\u001b[49m\u001b[38;5;241;43m0\u001b[39;49m\u001b[43m,\u001b[49m\u001b[38;5;241;43m1\u001b[39;49m\u001b[43m,\u001b[49m\u001b[38;5;241;43m0\u001b[39;49m\u001b[43m,\u001b[49m\u001b[38;5;241;43m0\u001b[39;49m\u001b[43m,\u001b[49m\u001b[38;5;241;43m0\u001b[39;49m\u001b[43m,\u001b[49m\u001b[38;5;241;43m0\u001b[39;49m\u001b[43m,\u001b[49m\u001b[38;5;241;43m0\u001b[39;49m\u001b[43m,\u001b[49m\u001b[38;5;241;43m0\u001b[39;49m\u001b[43m,\u001b[49m\u001b[38;5;241;43m1\u001b[39;49m\u001b[43m,\u001b[49m\u001b[38;5;241;43m0\u001b[39;49m\u001b[43m,\u001b[49m\u001b[38;5;241;43m0\u001b[39;49m\u001b[43m,\u001b[49m\u001b[38;5;241;43m3\u001b[39;49m\u001b[43m,\u001b[49m\u001b[38;5;241;43m0\u001b[39;49m\u001b[43m,\u001b[49m\u001b[38;5;241;43m0\u001b[39;49m\u001b[43m,\u001b[49m\u001b[38;5;241;43m0\u001b[39;49m\u001b[43m,\u001b[49m\u001b[38;5;241;43m0\u001b[39;49m\u001b[43m,\u001b[49m\u001b[38;5;241;43m0\u001b[39;49m\u001b[43m,\u001b[49m\u001b[38;5;241;43m0\u001b[39;49m\u001b[43m,\u001b[49m\u001b[38;5;241;43m0\u001b[39;49m\u001b[43m,\u001b[49m\u001b[38;5;241;43m0\u001b[39;49m\u001b[43m,\u001b[49m\u001b[38;5;241;43m0\u001b[39;49m\u001b[43m,\u001b[49m\u001b[38;5;241;43m0\u001b[39;49m\u001b[43m,\u001b[49m\u001b[38;5;241;43m3\u001b[39;49m\u001b[43m,\u001b[49m\u001b[38;5;241;43m0\u001b[39;49m\u001b[43m,\u001b[49m\u001b[38;5;241;43m1\u001b[39;49m\u001b[43m,\u001b[49m\u001b[38;5;241;43m0\u001b[39;49m\u001b[43m,\u001b[49m\u001b[38;5;241;43m0\u001b[39;49m\u001b[43m,\u001b[49m\u001b[38;5;241;43m0\u001b[39;49m\u001b[43m,\u001b[49m\u001b[38;5;241;43m0\u001b[39;49m\u001b[43m,\u001b[49m\u001b[38;5;241;43m1\u001b[39;49m\u001b[43m,\u001b[49m\u001b[38;5;241;43m0\u001b[39;49m\u001b[43m,\u001b[49m\u001b[38;5;241;43m0\u001b[39;49m\u001b[43m,\u001b[49m\u001b[38;5;241;43m0\u001b[39;49m\u001b[43m,\u001b[49m\u001b[38;5;241;43m0\u001b[39;49m\u001b[43m,\u001b[49m\u001b[38;5;241;43m0\u001b[39;49m\u001b[43m,\u001b[49m\u001b[38;5;241;43m3\u001b[39;49m\u001b[43m,\u001b[49m\u001b[38;5;241;43m0\u001b[39;49m\u001b[43m,\u001b[49m\u001b[38;5;241;43m0\u001b[39;49m\u001b[43m,\u001b[49m\u001b[38;5;241;43m0\u001b[39;49m\u001b[43m,\u001b[49m\u001b[38;5;241;43m0\u001b[39;49m\u001b[43m,\u001b[49m\u001b[38;5;241;43m0\u001b[39;49m\u001b[43m,\u001b[49m\u001b[38;5;241;43m0\u001b[39;49m\u001b[43m,\u001b[49m\u001b[38;5;241;43m0\u001b[39;49m\u001b[43m,\u001b[49m\u001b[38;5;241;43m0\u001b[39;49m\u001b[43m,\u001b[49m\u001b[38;5;241;43m3\u001b[39;49m\u001b[43m,\u001b[49m\u001b[38;5;241;43m0\u001b[39;49m\u001b[43m,\u001b[49m\u001b[38;5;241;43m1\u001b[39;49m\u001b[43m,\u001b[49m\u001b[38;5;241;43m0\u001b[39;49m\u001b[43m,\u001b[49m\u001b[38;5;241;43m0\u001b[39;49m\u001b[43m,\u001b[49m\u001b[38;5;241;43m0\u001b[39;49m\u001b[43m,\u001b[49m\u001b[38;5;241;43m3\u001b[39;49m\u001b[43m,\u001b[49m\u001b[38;5;241;43m0\u001b[39;49m\u001b[43m,\u001b[49m\u001b[38;5;241;43m0\u001b[39;49m\u001b[43m,\u001b[49m\u001b[38;5;241;43m0\u001b[39;49m\u001b[43m,\u001b[49m\u001b[38;5;241;43m0\u001b[39;49m\u001b[43m,\u001b[49m\u001b[38;5;241;43m0\u001b[39;49m\u001b[43m]\u001b[49m\u001b[43m,\u001b[49m\u001b[38;5;241;43m8\u001b[39;49m\u001b[43m)\u001b[49m\n",
      "Input \u001b[0;32mIn [21]\u001b[0m, in \u001b[0;36msolve\u001b[0;34m(clues, n)\u001b[0m\n\u001b[1;32m     14\u001b[0m guesses \u001b[38;5;241m=\u001b[39m island_options(puzzle,n) \n\u001b[1;32m     15\u001b[0m \u001b[38;5;66;03m#print(guesses)\u001b[39;00m\n\u001b[1;32m     16\u001b[0m \u001b[38;5;66;03m#print(puzzle)\u001b[39;00m\n\u001b[0;32m---> 17\u001b[0m \u001b[43mbacktrack\u001b[49m\u001b[43m(\u001b[49m\u001b[43mpuzzle\u001b[49m\u001b[43m,\u001b[49m\u001b[43mguesses\u001b[49m\u001b[43m,\u001b[49m\u001b[43mn\u001b[49m\u001b[43m)\u001b[49m \n\u001b[1;32m     18\u001b[0m rewrap(puzzle,n) \n\u001b[1;32m     19\u001b[0m b \u001b[38;5;241m=\u001b[39m perf_counter() \n",
      "Input \u001b[0;32mIn [17]\u001b[0m, in \u001b[0;36mbacktrack\u001b[0;34m(puzzle, guesses, n)\u001b[0m\n\u001b[1;32m     14\u001b[0m puzzle[row][col]\u001b[38;5;241m=\u001b[39m guess \n\u001b[1;32m     15\u001b[0m \u001b[38;5;66;03m#print(puzzle) \u001b[39;00m\n\u001b[0;32m---> 17\u001b[0m \u001b[38;5;28;01mif\u001b[39;00m \u001b[43mbacktrack\u001b[49m\u001b[43m(\u001b[49m\u001b[43mpuzzle\u001b[49m\u001b[43m,\u001b[49m\u001b[43mguesses\u001b[49m\u001b[43m,\u001b[49m\u001b[43mn\u001b[49m\u001b[43m)\u001b[49m: \n\u001b[1;32m     18\u001b[0m     \u001b[38;5;28;01mreturn\u001b[39;00m \u001b[38;5;28;01mTrue\u001b[39;00m\n\u001b[1;32m     20\u001b[0m puzzle[row][col] \u001b[38;5;241m=\u001b[39m \u001b[38;5;241m-\u001b[39m\u001b[38;5;241m1\u001b[39m \u001b[38;5;66;03m# resets if path isnt found. \u001b[39;00m\n",
      "Input \u001b[0;32mIn [17]\u001b[0m, in \u001b[0;36mbacktrack\u001b[0;34m(puzzle, guesses, n)\u001b[0m\n\u001b[1;32m     14\u001b[0m puzzle[row][col]\u001b[38;5;241m=\u001b[39m guess \n\u001b[1;32m     15\u001b[0m \u001b[38;5;66;03m#print(puzzle) \u001b[39;00m\n\u001b[0;32m---> 17\u001b[0m \u001b[38;5;28;01mif\u001b[39;00m \u001b[43mbacktrack\u001b[49m\u001b[43m(\u001b[49m\u001b[43mpuzzle\u001b[49m\u001b[43m,\u001b[49m\u001b[43mguesses\u001b[49m\u001b[43m,\u001b[49m\u001b[43mn\u001b[49m\u001b[43m)\u001b[49m: \n\u001b[1;32m     18\u001b[0m     \u001b[38;5;28;01mreturn\u001b[39;00m \u001b[38;5;28;01mTrue\u001b[39;00m\n\u001b[1;32m     20\u001b[0m puzzle[row][col] \u001b[38;5;241m=\u001b[39m \u001b[38;5;241m-\u001b[39m\u001b[38;5;241m1\u001b[39m \u001b[38;5;66;03m# resets if path isnt found. \u001b[39;00m\n",
      "    \u001b[0;31m[... skipping similar frames: backtrack at line 17 (18 times)]\u001b[0m\n",
      "Input \u001b[0;32mIn [17]\u001b[0m, in \u001b[0;36mbacktrack\u001b[0;34m(puzzle, guesses, n)\u001b[0m\n\u001b[1;32m     14\u001b[0m puzzle[row][col]\u001b[38;5;241m=\u001b[39m guess \n\u001b[1;32m     15\u001b[0m \u001b[38;5;66;03m#print(puzzle) \u001b[39;00m\n\u001b[0;32m---> 17\u001b[0m \u001b[38;5;28;01mif\u001b[39;00m \u001b[43mbacktrack\u001b[49m\u001b[43m(\u001b[49m\u001b[43mpuzzle\u001b[49m\u001b[43m,\u001b[49m\u001b[43mguesses\u001b[49m\u001b[43m,\u001b[49m\u001b[43mn\u001b[49m\u001b[43m)\u001b[49m: \n\u001b[1;32m     18\u001b[0m     \u001b[38;5;28;01mreturn\u001b[39;00m \u001b[38;5;28;01mTrue\u001b[39;00m\n\u001b[1;32m     20\u001b[0m puzzle[row][col] \u001b[38;5;241m=\u001b[39m \u001b[38;5;241m-\u001b[39m\u001b[38;5;241m1\u001b[39m \u001b[38;5;66;03m# resets if path isnt found. \u001b[39;00m\n",
      "Input \u001b[0;32mIn [17]\u001b[0m, in \u001b[0;36mbacktrack\u001b[0;34m(puzzle, guesses, n)\u001b[0m\n\u001b[1;32m      9\u001b[0m     row, col \u001b[38;5;241m=\u001b[39m find \n\u001b[1;32m     11\u001b[0m \u001b[38;5;28;01mfor\u001b[39;00m guess \u001b[38;5;129;01min\u001b[39;00m guesses: \n\u001b[0;32m---> 12\u001b[0m     puzzle_copy \u001b[38;5;241m=\u001b[39m \u001b[43mcopy\u001b[49m\u001b[38;5;241;43m.\u001b[39;49m\u001b[43mdeepcopy\u001b[49m\u001b[43m(\u001b[49m\u001b[43mpuzzle\u001b[49m\u001b[43m)\u001b[49m \n\u001b[1;32m     13\u001b[0m     \u001b[38;5;28;01mif\u001b[39;00m is_it_valid2(puzzle_copy, guess, (row,col),n) \u001b[38;5;129;01mis\u001b[39;00m \u001b[38;5;28;01mTrue\u001b[39;00m: \n\u001b[1;32m     14\u001b[0m         puzzle[row][col]\u001b[38;5;241m=\u001b[39m guess \n",
      "File \u001b[0;32m~/opt/anaconda3/lib/python3.9/copy.py:146\u001b[0m, in \u001b[0;36mdeepcopy\u001b[0;34m(x, memo, _nil)\u001b[0m\n\u001b[1;32m    144\u001b[0m copier \u001b[38;5;241m=\u001b[39m _deepcopy_dispatch\u001b[38;5;241m.\u001b[39mget(\u001b[38;5;28mcls\u001b[39m)\n\u001b[1;32m    145\u001b[0m \u001b[38;5;28;01mif\u001b[39;00m copier \u001b[38;5;129;01mis\u001b[39;00m \u001b[38;5;129;01mnot\u001b[39;00m \u001b[38;5;28;01mNone\u001b[39;00m:\n\u001b[0;32m--> 146\u001b[0m     y \u001b[38;5;241m=\u001b[39m \u001b[43mcopier\u001b[49m\u001b[43m(\u001b[49m\u001b[43mx\u001b[49m\u001b[43m,\u001b[49m\u001b[43m \u001b[49m\u001b[43mmemo\u001b[49m\u001b[43m)\u001b[49m\n\u001b[1;32m    147\u001b[0m \u001b[38;5;28;01melse\u001b[39;00m:\n\u001b[1;32m    148\u001b[0m     \u001b[38;5;28;01mif\u001b[39;00m \u001b[38;5;28missubclass\u001b[39m(\u001b[38;5;28mcls\u001b[39m, \u001b[38;5;28mtype\u001b[39m):\n",
      "File \u001b[0;32m~/opt/anaconda3/lib/python3.9/copy.py:205\u001b[0m, in \u001b[0;36m_deepcopy_list\u001b[0;34m(x, memo, deepcopy)\u001b[0m\n\u001b[1;32m    203\u001b[0m append \u001b[38;5;241m=\u001b[39m y\u001b[38;5;241m.\u001b[39mappend\n\u001b[1;32m    204\u001b[0m \u001b[38;5;28;01mfor\u001b[39;00m a \u001b[38;5;129;01min\u001b[39;00m x:\n\u001b[0;32m--> 205\u001b[0m     append(\u001b[43mdeepcopy\u001b[49m\u001b[43m(\u001b[49m\u001b[43ma\u001b[49m\u001b[43m,\u001b[49m\u001b[43m \u001b[49m\u001b[43mmemo\u001b[49m\u001b[43m)\u001b[49m)\n\u001b[1;32m    206\u001b[0m \u001b[38;5;28;01mreturn\u001b[39;00m y\n",
      "File \u001b[0;32m~/opt/anaconda3/lib/python3.9/copy.py:146\u001b[0m, in \u001b[0;36mdeepcopy\u001b[0;34m(x, memo, _nil)\u001b[0m\n\u001b[1;32m    144\u001b[0m copier \u001b[38;5;241m=\u001b[39m _deepcopy_dispatch\u001b[38;5;241m.\u001b[39mget(\u001b[38;5;28mcls\u001b[39m)\n\u001b[1;32m    145\u001b[0m \u001b[38;5;28;01mif\u001b[39;00m copier \u001b[38;5;129;01mis\u001b[39;00m \u001b[38;5;129;01mnot\u001b[39;00m \u001b[38;5;28;01mNone\u001b[39;00m:\n\u001b[0;32m--> 146\u001b[0m     y \u001b[38;5;241m=\u001b[39m \u001b[43mcopier\u001b[49m\u001b[43m(\u001b[49m\u001b[43mx\u001b[49m\u001b[43m,\u001b[49m\u001b[43m \u001b[49m\u001b[43mmemo\u001b[49m\u001b[43m)\u001b[49m\n\u001b[1;32m    147\u001b[0m \u001b[38;5;28;01melse\u001b[39;00m:\n\u001b[1;32m    148\u001b[0m     \u001b[38;5;28;01mif\u001b[39;00m \u001b[38;5;28missubclass\u001b[39m(\u001b[38;5;28mcls\u001b[39m, \u001b[38;5;28mtype\u001b[39m):\n",
      "File \u001b[0;32m~/opt/anaconda3/lib/python3.9/copy.py:205\u001b[0m, in \u001b[0;36m_deepcopy_list\u001b[0;34m(x, memo, deepcopy)\u001b[0m\n\u001b[1;32m    203\u001b[0m append \u001b[38;5;241m=\u001b[39m y\u001b[38;5;241m.\u001b[39mappend\n\u001b[1;32m    204\u001b[0m \u001b[38;5;28;01mfor\u001b[39;00m a \u001b[38;5;129;01min\u001b[39;00m x:\n\u001b[0;32m--> 205\u001b[0m     append(\u001b[43mdeepcopy\u001b[49m\u001b[43m(\u001b[49m\u001b[43ma\u001b[49m\u001b[43m,\u001b[49m\u001b[43m \u001b[49m\u001b[43mmemo\u001b[49m\u001b[43m)\u001b[49m)\n\u001b[1;32m    206\u001b[0m \u001b[38;5;28;01mreturn\u001b[39;00m y\n",
      "File \u001b[0;32m~/opt/anaconda3/lib/python3.9/copy.py:146\u001b[0m, in \u001b[0;36mdeepcopy\u001b[0;34m(x, memo, _nil)\u001b[0m\n\u001b[1;32m    144\u001b[0m copier \u001b[38;5;241m=\u001b[39m _deepcopy_dispatch\u001b[38;5;241m.\u001b[39mget(\u001b[38;5;28mcls\u001b[39m)\n\u001b[1;32m    145\u001b[0m \u001b[38;5;28;01mif\u001b[39;00m copier \u001b[38;5;129;01mis\u001b[39;00m \u001b[38;5;129;01mnot\u001b[39;00m \u001b[38;5;28;01mNone\u001b[39;00m:\n\u001b[0;32m--> 146\u001b[0m     y \u001b[38;5;241m=\u001b[39m \u001b[43mcopier\u001b[49m\u001b[43m(\u001b[49m\u001b[43mx\u001b[49m\u001b[43m,\u001b[49m\u001b[43m \u001b[49m\u001b[43mmemo\u001b[49m\u001b[43m)\u001b[49m\n\u001b[1;32m    147\u001b[0m \u001b[38;5;28;01melse\u001b[39;00m:\n\u001b[1;32m    148\u001b[0m     \u001b[38;5;28;01mif\u001b[39;00m \u001b[38;5;28missubclass\u001b[39m(\u001b[38;5;28mcls\u001b[39m, \u001b[38;5;28mtype\u001b[39m):\n",
      "File \u001b[0;32m~/opt/anaconda3/lib/python3.9/copy.py:210\u001b[0m, in \u001b[0;36m_deepcopy_tuple\u001b[0;34m(x, memo, deepcopy)\u001b[0m\n\u001b[1;32m    209\u001b[0m \u001b[38;5;28;01mdef\u001b[39;00m \u001b[38;5;21m_deepcopy_tuple\u001b[39m(x, memo, deepcopy\u001b[38;5;241m=\u001b[39mdeepcopy):\n\u001b[0;32m--> 210\u001b[0m     y \u001b[38;5;241m=\u001b[39m [deepcopy(a, memo) \u001b[38;5;28;01mfor\u001b[39;00m a \u001b[38;5;129;01min\u001b[39;00m x]\n\u001b[1;32m    211\u001b[0m     \u001b[38;5;66;03m# We're not going to put the tuple in the memo, but it's still important we\u001b[39;00m\n\u001b[1;32m    212\u001b[0m     \u001b[38;5;66;03m# check for it, in case the tuple contains recursive mutable structures.\u001b[39;00m\n\u001b[1;32m    213\u001b[0m     \u001b[38;5;28;01mtry\u001b[39;00m:\n",
      "File \u001b[0;32m~/opt/anaconda3/lib/python3.9/copy.py:210\u001b[0m, in \u001b[0;36m<listcomp>\u001b[0;34m(.0)\u001b[0m\n\u001b[1;32m    209\u001b[0m \u001b[38;5;28;01mdef\u001b[39;00m \u001b[38;5;21m_deepcopy_tuple\u001b[39m(x, memo, deepcopy\u001b[38;5;241m=\u001b[39mdeepcopy):\n\u001b[0;32m--> 210\u001b[0m     y \u001b[38;5;241m=\u001b[39m [\u001b[43mdeepcopy\u001b[49m\u001b[43m(\u001b[49m\u001b[43ma\u001b[49m\u001b[43m,\u001b[49m\u001b[43m \u001b[49m\u001b[43mmemo\u001b[49m\u001b[43m)\u001b[49m \u001b[38;5;28;01mfor\u001b[39;00m a \u001b[38;5;129;01min\u001b[39;00m x]\n\u001b[1;32m    211\u001b[0m     \u001b[38;5;66;03m# We're not going to put the tuple in the memo, but it's still important we\u001b[39;00m\n\u001b[1;32m    212\u001b[0m     \u001b[38;5;66;03m# check for it, in case the tuple contains recursive mutable structures.\u001b[39;00m\n\u001b[1;32m    213\u001b[0m     \u001b[38;5;28;01mtry\u001b[39;00m:\n",
      "File \u001b[0;32m~/opt/anaconda3/lib/python3.9/copy.py:138\u001b[0m, in \u001b[0;36mdeepcopy\u001b[0;34m(x, memo, _nil)\u001b[0m\n\u001b[1;32m    135\u001b[0m     memo \u001b[38;5;241m=\u001b[39m {}\n\u001b[1;32m    137\u001b[0m d \u001b[38;5;241m=\u001b[39m \u001b[38;5;28mid\u001b[39m(x)\n\u001b[0;32m--> 138\u001b[0m y \u001b[38;5;241m=\u001b[39m \u001b[43mmemo\u001b[49m\u001b[38;5;241;43m.\u001b[39;49m\u001b[43mget\u001b[49m(d, _nil)\n\u001b[1;32m    139\u001b[0m \u001b[38;5;28;01mif\u001b[39;00m y \u001b[38;5;129;01mis\u001b[39;00m \u001b[38;5;129;01mnot\u001b[39;00m _nil:\n\u001b[1;32m    140\u001b[0m     \u001b[38;5;28;01mreturn\u001b[39;00m y\n",
      "\u001b[0;31mKeyboardInterrupt\u001b[0m: "
     ]
    }
   ],
   "source": [
    "#8x8 solved much more slowly. around 1-2 minutes https://puzzlemadness.co.uk/nurikabe/medium/2024/3/1\n",
    "solve([0,0,0,0,5,0,0,0,1,0,0,0,0,0,0,1,0,0,3,0,0,0,0,0,0,0,0,0,0,3,0,1,0,0,0,0,1,0,0,0,0,0,3,0,0,0,0,0,0,0,0,3,0,1,0,0,0,3,0,0,0,0,0],8)"
   ]
  },
  {
   "cell_type": "code",
   "execution_count": 43,
   "id": "37de17fe",
   "metadata": {},
   "outputs": [
    {
     "name": "stdout",
     "output_type": "stream",
     "text": [
      "64\n"
     ]
    }
   ],
   "source": [
    "eight_2 = [0,0,0,0,0,0,5,0,3,0,1,0,3,0,0,0,0,0,0,0,0,1,0,0,0,0,0,2,0,0,0,0,0,0,0,0,0,2,0,0,3,0,0,0,0,0,0,0,0,1,0,0,0,1,0,2,0,0,0,4,0,0,0,0]\n",
    "\n",
    "print(len(eight_2))"
   ]
  },
  {
   "cell_type": "code",
   "execution_count": 44,
   "id": "b471566c",
   "metadata": {},
   "outputs": [
    {
     "name": "stdout",
     "output_type": "stream",
     "text": [
      "64\n"
     ]
    }
   ],
   "source": [
    "eight_3 = [2,0,0,0,0,5,0,2,0,0,0,0,0,0,0,0,0,0,0,1,0,1,0,0,0,0,1,0,0,0,0,0,3,0,0,0,0,0,0,3,0,0,2,0,4,0,0,0,0,0,0,0,0,0,0,2,0,2,0,0,0,1,0,0]\n",
    "\n",
    "print(len(eight_3))"
   ]
  },
  {
   "cell_type": "code",
   "execution_count": 45,
   "id": "69abaeb3",
   "metadata": {},
   "outputs": [
    {
     "name": "stdout",
     "output_type": "stream",
     "text": [
      "64\n"
     ]
    }
   ],
   "source": [
    "eight_4 = [0,0,0,4,0,1,0,0,0,0,0,0,0,0,0,2,0,0,0,0,3,0,0,0,0,0,0,0,0,0,2,0,0,0,0,0,0,4,0,0,3,0,0,0,0,0,0,1,0,0,1,0,2,0,0,0,0,2,0,0,0,0,0,2]\n",
    "print(len(eight_4))"
   ]
  },
  {
   "cell_type": "code",
   "execution_count": 46,
   "id": "8ce72cc8",
   "metadata": {},
   "outputs": [],
   "source": [
    "import statistics \n",
    "\n",
    "five_1_av = statistics.mean(five_by_five) \n",
    "five_2_av = statistics.mean(five_times_2)\n",
    "five_3_av = statistics.mean(five_times_3)\n",
    "five_4_av = statistics.mean(five_times_4) \n",
    "#### \n",
    "six_1_av = statistics.mean(six_by_six)\n",
    "six_2_av = statistics.mean(six_time_2) \n",
    "six_3_av = statistics.mean(six_times_3)\n",
    "six_4_av = statistics.mean(six_times_4) \n",
    "##### \n",
    "seven_1_av = statistics.mean(seven_by_seven) \n",
    "seven_2_av = statistics.mean(seven_times_2) \n",
    "seven_3_av = statistics.mean(seven_times_3)\n",
    "seven_4_av = statistics.mean(seven_times_4) \n",
    "##### \n",
    "eight_1_av = statistics.mean(eight_by_eight) \n",
    "eight_2_av = statistics.mean(eight_times_2) \n",
    "eight_3_av = statistics.mean(eight_times_3) \n",
    "eight_4_av = statistics.mean(eight_times_4)"
   ]
  },
  {
   "cell_type": "code",
   "execution_count": 124,
   "id": "6ccf2bed",
   "metadata": {
    "scrolled": true
   },
   "outputs": [
    {
     "name": "stdout",
     "output_type": "stream",
     "text": [
      "67.16901623340016 191.17923644012507 215.6274895620001 29.84641369709998\n"
     ]
    }
   ],
   "source": [
    "print(eight_1_av,eight_2_av,eight_3_av,eight_4_av)"
   ]
  },
  {
   "cell_type": "code",
   "execution_count": 50,
   "id": "9e0af362",
   "metadata": {},
   "outputs": [],
   "source": [
    "overall_time_eight = statistics.mean([eight_1_av,eight_2_av,eight_3_av,eight_4_av]) \n",
    "overall_time_seven = statistics.mean([seven_2_av,seven_3_av,seven_4_av]) #no solve time 1 for seven \n",
    "overall_time_six = statistics.mean([six_1_av,six_2_av,six_3_av, six_4_av]) # no solve time 3 for six \n",
    "overall_time_five = statistics.mean([five_1_av,five_2_av,five_3_av,five_4_av])"
   ]
  },
  {
   "cell_type": "code",
   "execution_count": 51,
   "id": "001f4a91",
   "metadata": {},
   "outputs": [
    {
     "data": {
      "image/png": "[encoded data removed]",
      "text/plain": [
       "<Figure size 720x432 with 1 Axes>"
      ]
     },
     "metadata": {
      "needs_background": "light"
     },
     "output_type": "display_data"
    }
   ],
   "source": [
    "import matplotlib.pyplot as plt\n",
    "import numpy as np\n",
    "\n",
    "solve_times = np.array([overall_time_five, overall_time_six, overall_time_seven, overall_time_eight]) \n",
    "puzzle_sizes = np.array([5**2, 6**2, 7**2, 8**2]) \n",
    "\n",
    "\n",
    "\n",
    "\n",
    "plt.figure(figsize=(10, 6))\n",
    "plt.loglog(puzzle_sizes, solve_times, 'x', label='Data Points')\n",
    "\n",
    "# Fit a line to the log-log plot\n",
    "log_puzzle_sizes = np.log(puzzle_sizes)\n",
    "log_solve_times = np.log(solve_times)\n",
    "slope, intercept = np.polyfit(log_puzzle_sizes, log_solve_times, 1)\n",
    "line_of_best_fit = np.exp(intercept + slope*log_puzzle_sizes)\n",
    "\n",
    "# Plot the line of best fit\n",
    "plt.loglog(puzzle_sizes, line_of_best_fit, label=f'Best Fit Line\\nSlope: {slope:.2f}')\n",
    "\n",
    "# Add labels, title, and legend\n",
    "plt.xlabel('Total Cells in Nurikabe Grid ($n^2$)')\n",
    "plt.ylabel('Average Solve Time (seconds)')\n",
    "plt.title('Log-Log Plot of Solve Time vs. Nurikabe Size')\n",
    "plt.legend()\n",
    "\n",
    "# Display the plot\n",
    "plt.show()\n"
   ]
  },
  {
   "cell_type": "code",
   "execution_count": 149,
   "id": "356c1167",
   "metadata": {},
   "outputs": [
    {
     "name": "stdout",
     "output_type": "stream",
     "text": [
      "[1.42130194e-02 2.71062921e-02 8.62093667e+00 1.25955539e+02]\n"
     ]
    }
   ],
   "source": [
    "print(solve_times)"
   ]
  },
  {
   "cell_type": "code",
   "execution_count": 23,
   "id": "4f3c28d0",
   "metadata": {},
   "outputs": [
    {
     "name": "stdout",
     "output_type": "stream",
     "text": [
      "81\n"
     ]
    }
   ],
   "source": [
    "#9x9 \n",
    "nine_by_nine = [3,0,0,0,0,0,0,0,1,0,0,0,0,0,0,0,0,0,2,0,1,0,0,4,0,1,0,0,0,0,0,5,0,0,0,0,0,0,0,0,0,0,0,3,0,0,0,0,0,4,0,0,0,0,0,0,0,0,0,0,0,1,0,1,0,3,0,0,0,0,0,2,0,0,0,0,0,0,1,0,0]\n",
    "print(len(nine_by_nine))"
   ]
  },
  {
   "cell_type": "code",
   "execution_count": 52,
   "id": "3d317ee7",
   "metadata": {},
   "outputs": [
    {
     "name": "stdout",
     "output_type": "stream",
     "text": [
      "510.80497391999995\n"
     ]
    },
    {
     "data": {
      "text/plain": [
       "[[3, 3, 3, 0, 0, 0, 0, 0, 1],\n",
       " [0, 0, 0, 0, 4, 4, 4, 0, 0],\n",
       " [2, 0, 1, 0, 0, 4, 0, 1, 0],\n",
       " [2, 0, 0, 5, 5, 0, 0, 0, 0],\n",
       " [0, 5, 5, 5, 0, 0, 3, 3, 3],\n",
       " [0, 0, 0, 0, 4, 0, 0, 0, 0],\n",
       " [0, 3, 3, 0, 4, 4, 0, 1, 0],\n",
       " [1, 0, 3, 0, 4, 0, 0, 0, 2],\n",
       " [0, 0, 0, 0, 0, 0, 1, 0, 2]]"
      ]
     },
     "execution_count": 52,
     "metadata": {},
     "output_type": "execute_result"
    }
   ],
   "source": [
    "from time import perf_counter\n",
    "solve(nine_by_nine,9)"
   ]
  },
  {
   "cell_type": "code",
   "execution_count": 54,
   "id": "eeab1564",
   "metadata": {},
   "outputs": [
    {
     "name": "stdout",
     "output_type": "stream",
     "text": [
      "81\n"
     ]
    }
   ],
   "source": [
    "nine_2 = [7,0,0,0,0,0,0,0,0,0,0,0,0,0,0,0,0,0,0,5,0,1,0,3,0,0,0,0,0,2,0,0,0,0,0,4,0,0,0,0,0,0,1,0,0,0,0,0,0,2,0,0,0,0,0,2,0,0,0,0,0,0,5,0,0,0,0,0,0,0,0,0,3,0,0,0,3,0,0,0,2]\n",
    "print(len(nine_2))"
   ]
  },
  {
   "cell_type": "code",
   "execution_count": 55,
   "id": "2bb61cd6",
   "metadata": {},
   "outputs": [
    {
     "name": "stdout",
     "output_type": "stream",
     "text": [
      "1601.8125885219997\n"
     ]
    },
    {
     "data": {
      "text/plain": [
       "[[7, 7, 7, 7, 7, 7, 7, 0, 4],\n",
       " [0, 0, 0, 0, 0, 0, 0, 0, 4],\n",
       " [5, 5, 0, 1, 0, 3, 3, 0, 4],\n",
       " [5, 0, 2, 0, 0, 3, 0, 0, 4],\n",
       " [5, 0, 2, 0, 2, 0, 1, 0, 0],\n",
       " [5, 0, 0, 0, 2, 0, 0, 5, 5],\n",
       " [0, 2, 2, 0, 0, 0, 5, 5, 5],\n",
       " [0, 0, 0, 0, 3, 0, 0, 0, 0],\n",
       " [3, 3, 3, 0, 3, 3, 0, 2, 2]]"
      ]
     },
     "execution_count": 55,
     "metadata": {},
     "output_type": "execute_result"
    }
   ],
   "source": [
    "solve(nine_2,9)"
   ]
  },
  {
   "cell_type": "code",
   "execution_count": null,
   "id": "3beb005e",
   "metadata": {},
   "outputs": [],
   "source": []
  }
 ],
 "metadata": {
  "kernelspec": {
   "display_name": "Python 3 (ipykernel)",
   "language": "python",
   "name": "python3"
  },
  "language_info": {
   "codemirror_mode": {
    "name": "ipython",
    "version": 3
   },
   "file_extension": ".py",
   "mimetype": "text/x-python",
   "name": "python",
   "nbconvert_exporter": "python",
   "pygments_lexer": "ipython3",
   "version": "3.9.12"
  }
 },
 "nbformat": 4,
 "nbformat_minor": 5
}
